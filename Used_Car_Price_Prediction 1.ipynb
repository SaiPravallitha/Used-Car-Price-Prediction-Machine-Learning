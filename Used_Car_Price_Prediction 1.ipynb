{
 "cells": [
  {
   "cell_type": "code",
   "execution_count": 3,
   "id": "245e673e",
   "metadata": {},
   "outputs": [],
   "source": [
    "import pandas as pd\n",
    "import seaborn as sns\n",
    "import matplotlib.pyplot as plt\n",
    "import numpy as np\n",
    "import datetime as dt\n",
    "from sklearn.model_selection import GridSearchCV\n",
    "from sklearn.preprocessing  import PolynomialFeatures\n",
    "from sklearn.pipeline import make_pipeline\n",
    "from sklearn.linear_model import LinearRegression\n",
    "import time\n",
    "from sklearn.linear_model import Lasso\n",
    "from sklearn.preprocessing import MinMaxScaler\n",
    "from sklearn.preprocessing import OrdinalEncoder\n",
    "from sklearn.linear_model import Ridge\n",
    "from sklearn.neighbors import KNeighborsRegressor\n",
    "from sklearn.ensemble import RandomForestRegressor\n",
    "from sklearn.tree import DecisionTreeRegressor\n",
    "from sklearn.ensemble import AdaBoostRegressor\n",
    "\n",
    "%matplotlib inline "
   ]
  },
  {
   "cell_type": "code",
   "execution_count": 4,
   "id": "98cf0c12",
   "metadata": {},
   "outputs": [],
   "source": [
    "Data = pd.read_csv(\"vehicles.csv\")"
   ]
  },
  {
   "cell_type": "code",
   "execution_count": 5,
   "id": "b450ec07",
   "metadata": {},
   "outputs": [],
   "source": [
    "Used_Cars = Data.copy()"
   ]
  },
  {
   "cell_type": "code",
   "execution_count": 6,
   "id": "be18b053",
   "metadata": {},
   "outputs": [
    {
     "data": {
      "text/html": [
       "<div>\n",
       "<style scoped>\n",
       "    .dataframe tbody tr th:only-of-type {\n",
       "        vertical-align: middle;\n",
       "    }\n",
       "\n",
       "    .dataframe tbody tr th {\n",
       "        vertical-align: top;\n",
       "    }\n",
       "\n",
       "    .dataframe thead th {\n",
       "        text-align: right;\n",
       "    }\n",
       "</style>\n",
       "<table border=\"1\" class=\"dataframe\">\n",
       "  <thead>\n",
       "    <tr style=\"text-align: right;\">\n",
       "      <th></th>\n",
       "      <th>id</th>\n",
       "      <th>url</th>\n",
       "      <th>region</th>\n",
       "      <th>region_url</th>\n",
       "      <th>price</th>\n",
       "      <th>year</th>\n",
       "      <th>manufacturer</th>\n",
       "      <th>model</th>\n",
       "      <th>condition</th>\n",
       "      <th>cylinders</th>\n",
       "      <th>...</th>\n",
       "      <th>size</th>\n",
       "      <th>type</th>\n",
       "      <th>paint_color</th>\n",
       "      <th>image_url</th>\n",
       "      <th>description</th>\n",
       "      <th>county</th>\n",
       "      <th>state</th>\n",
       "      <th>lat</th>\n",
       "      <th>long</th>\n",
       "      <th>posting_date</th>\n",
       "    </tr>\n",
       "  </thead>\n",
       "  <tbody>\n",
       "    <tr>\n",
       "      <th>0</th>\n",
       "      <td>7222695916</td>\n",
       "      <td>https://prescott.craigslist.org/cto/d/prescott...</td>\n",
       "      <td>prescott</td>\n",
       "      <td>https://prescott.craigslist.org</td>\n",
       "      <td>6000</td>\n",
       "      <td>NaN</td>\n",
       "      <td>NaN</td>\n",
       "      <td>NaN</td>\n",
       "      <td>NaN</td>\n",
       "      <td>NaN</td>\n",
       "      <td>...</td>\n",
       "      <td>NaN</td>\n",
       "      <td>NaN</td>\n",
       "      <td>NaN</td>\n",
       "      <td>NaN</td>\n",
       "      <td>NaN</td>\n",
       "      <td>NaN</td>\n",
       "      <td>az</td>\n",
       "      <td>NaN</td>\n",
       "      <td>NaN</td>\n",
       "      <td>NaN</td>\n",
       "    </tr>\n",
       "    <tr>\n",
       "      <th>1</th>\n",
       "      <td>7218891961</td>\n",
       "      <td>https://fayar.craigslist.org/ctd/d/bentonville...</td>\n",
       "      <td>fayetteville</td>\n",
       "      <td>https://fayar.craigslist.org</td>\n",
       "      <td>11900</td>\n",
       "      <td>NaN</td>\n",
       "      <td>NaN</td>\n",
       "      <td>NaN</td>\n",
       "      <td>NaN</td>\n",
       "      <td>NaN</td>\n",
       "      <td>...</td>\n",
       "      <td>NaN</td>\n",
       "      <td>NaN</td>\n",
       "      <td>NaN</td>\n",
       "      <td>NaN</td>\n",
       "      <td>NaN</td>\n",
       "      <td>NaN</td>\n",
       "      <td>ar</td>\n",
       "      <td>NaN</td>\n",
       "      <td>NaN</td>\n",
       "      <td>NaN</td>\n",
       "    </tr>\n",
       "    <tr>\n",
       "      <th>2</th>\n",
       "      <td>7221797935</td>\n",
       "      <td>https://keys.craigslist.org/cto/d/summerland-k...</td>\n",
       "      <td>florida keys</td>\n",
       "      <td>https://keys.craigslist.org</td>\n",
       "      <td>21000</td>\n",
       "      <td>NaN</td>\n",
       "      <td>NaN</td>\n",
       "      <td>NaN</td>\n",
       "      <td>NaN</td>\n",
       "      <td>NaN</td>\n",
       "      <td>...</td>\n",
       "      <td>NaN</td>\n",
       "      <td>NaN</td>\n",
       "      <td>NaN</td>\n",
       "      <td>NaN</td>\n",
       "      <td>NaN</td>\n",
       "      <td>NaN</td>\n",
       "      <td>fl</td>\n",
       "      <td>NaN</td>\n",
       "      <td>NaN</td>\n",
       "      <td>NaN</td>\n",
       "    </tr>\n",
       "    <tr>\n",
       "      <th>3</th>\n",
       "      <td>7222270760</td>\n",
       "      <td>https://worcester.craigslist.org/cto/d/west-br...</td>\n",
       "      <td>worcester / central MA</td>\n",
       "      <td>https://worcester.craigslist.org</td>\n",
       "      <td>1500</td>\n",
       "      <td>NaN</td>\n",
       "      <td>NaN</td>\n",
       "      <td>NaN</td>\n",
       "      <td>NaN</td>\n",
       "      <td>NaN</td>\n",
       "      <td>...</td>\n",
       "      <td>NaN</td>\n",
       "      <td>NaN</td>\n",
       "      <td>NaN</td>\n",
       "      <td>NaN</td>\n",
       "      <td>NaN</td>\n",
       "      <td>NaN</td>\n",
       "      <td>ma</td>\n",
       "      <td>NaN</td>\n",
       "      <td>NaN</td>\n",
       "      <td>NaN</td>\n",
       "    </tr>\n",
       "    <tr>\n",
       "      <th>4</th>\n",
       "      <td>7210384030</td>\n",
       "      <td>https://greensboro.craigslist.org/cto/d/trinit...</td>\n",
       "      <td>greensboro</td>\n",
       "      <td>https://greensboro.craigslist.org</td>\n",
       "      <td>4900</td>\n",
       "      <td>NaN</td>\n",
       "      <td>NaN</td>\n",
       "      <td>NaN</td>\n",
       "      <td>NaN</td>\n",
       "      <td>NaN</td>\n",
       "      <td>...</td>\n",
       "      <td>NaN</td>\n",
       "      <td>NaN</td>\n",
       "      <td>NaN</td>\n",
       "      <td>NaN</td>\n",
       "      <td>NaN</td>\n",
       "      <td>NaN</td>\n",
       "      <td>nc</td>\n",
       "      <td>NaN</td>\n",
       "      <td>NaN</td>\n",
       "      <td>NaN</td>\n",
       "    </tr>\n",
       "  </tbody>\n",
       "</table>\n",
       "<p>5 rows × 26 columns</p>\n",
       "</div>"
      ],
      "text/plain": [
       "           id                                                url  \\\n",
       "0  7222695916  https://prescott.craigslist.org/cto/d/prescott...   \n",
       "1  7218891961  https://fayar.craigslist.org/ctd/d/bentonville...   \n",
       "2  7221797935  https://keys.craigslist.org/cto/d/summerland-k...   \n",
       "3  7222270760  https://worcester.craigslist.org/cto/d/west-br...   \n",
       "4  7210384030  https://greensboro.craigslist.org/cto/d/trinit...   \n",
       "\n",
       "                   region                         region_url  price  year  \\\n",
       "0                prescott    https://prescott.craigslist.org   6000   NaN   \n",
       "1            fayetteville       https://fayar.craigslist.org  11900   NaN   \n",
       "2            florida keys        https://keys.craigslist.org  21000   NaN   \n",
       "3  worcester / central MA   https://worcester.craigslist.org   1500   NaN   \n",
       "4              greensboro  https://greensboro.craigslist.org   4900   NaN   \n",
       "\n",
       "  manufacturer model condition cylinders  ... size  type paint_color  \\\n",
       "0          NaN   NaN       NaN       NaN  ...  NaN   NaN         NaN   \n",
       "1          NaN   NaN       NaN       NaN  ...  NaN   NaN         NaN   \n",
       "2          NaN   NaN       NaN       NaN  ...  NaN   NaN         NaN   \n",
       "3          NaN   NaN       NaN       NaN  ...  NaN   NaN         NaN   \n",
       "4          NaN   NaN       NaN       NaN  ...  NaN   NaN         NaN   \n",
       "\n",
       "  image_url description county state lat long posting_date  \n",
       "0       NaN         NaN    NaN    az NaN  NaN          NaN  \n",
       "1       NaN         NaN    NaN    ar NaN  NaN          NaN  \n",
       "2       NaN         NaN    NaN    fl NaN  NaN          NaN  \n",
       "3       NaN         NaN    NaN    ma NaN  NaN          NaN  \n",
       "4       NaN         NaN    NaN    nc NaN  NaN          NaN  \n",
       "\n",
       "[5 rows x 26 columns]"
      ]
     },
     "execution_count": 6,
     "metadata": {},
     "output_type": "execute_result"
    }
   ],
   "source": [
    "Used_Cars.head()"
   ]
  },
  {
   "cell_type": "code",
   "execution_count": 7,
   "id": "c5235e4a",
   "metadata": {},
   "outputs": [
    {
     "data": {
      "text/plain": [
       "(426880, 26)"
      ]
     },
     "execution_count": 7,
     "metadata": {},
     "output_type": "execute_result"
    }
   ],
   "source": [
    "Used_Cars.shape"
   ]
  },
  {
   "cell_type": "code",
   "execution_count": 8,
   "id": "980cad36",
   "metadata": {},
   "outputs": [
    {
     "data": {
      "text/plain": [
       "Index(['id', 'url', 'region', 'region_url', 'price', 'year', 'manufacturer',\n",
       "       'model', 'condition', 'cylinders', 'fuel', 'odometer', 'title_status',\n",
       "       'transmission', 'VIN', 'drive', 'size', 'type', 'paint_color',\n",
       "       'image_url', 'description', 'county', 'state', 'lat', 'long',\n",
       "       'posting_date'],\n",
       "      dtype='object')"
      ]
     },
     "execution_count": 8,
     "metadata": {},
     "output_type": "execute_result"
    }
   ],
   "source": [
    "Used_Cars.columns"
   ]
  },
  {
   "cell_type": "code",
   "execution_count": 9,
   "id": "22063dee",
   "metadata": {},
   "outputs": [],
   "source": [
    "Used_Cars = Used_Cars.drop(columns=['id','url', 'region_url', 'VIN','image_url','description','county', 'lat', 'long', 'size', 'state'], axis = 1)"
   ]
  },
  {
   "cell_type": "code",
   "execution_count": 10,
   "id": "4cd551c5",
   "metadata": {},
   "outputs": [],
   "source": [
    "Used_Cars = Used_Cars.drop_duplicates()"
   ]
  },
  {
   "cell_type": "code",
   "execution_count": 11,
   "id": "31dbf37f",
   "metadata": {},
   "outputs": [
    {
     "data": {
      "text/plain": [
       "region           0.000000\n",
       "price            0.000000\n",
       "year             0.279729\n",
       "manufacturer     4.131515\n",
       "model            1.233715\n",
       "condition       40.783336\n",
       "cylinders       41.620650\n",
       "fuel             0.703306\n",
       "odometer         1.028252\n",
       "title_status     1.926010\n",
       "transmission     0.596241\n",
       "drive           30.585159\n",
       "type            21.752128\n",
       "paint_color     30.498710\n",
       "posting_date     0.013354\n",
       "dtype: float64"
      ]
     },
     "execution_count": 11,
     "metadata": {},
     "output_type": "execute_result"
    }
   ],
   "source": [
    "Used_Cars.isnull().sum()/Used_Cars.shape[0]*100"
   ]
  },
  {
   "cell_type": "code",
   "execution_count": 12,
   "id": "f6307fb6",
   "metadata": {},
   "outputs": [],
   "source": [
    "Used_Cars.dropna(inplace = True)\n",
    "# Used_Cars.dropna(subset = ['year', 'odometer', 'manufacturer', 'model', 'fuel', 'title_status', 'transmission'], inplace = True)\n",
    "# Used_Cars.fillna('unknown', inplace=True)\n",
    "# Used_Cars.shape"
   ]
  },
  {
   "cell_type": "code",
   "execution_count": 13,
   "id": "6d70c36e",
   "metadata": {},
   "outputs": [
    {
     "data": {
      "text/html": [
       "<div>\n",
       "<style scoped>\n",
       "    .dataframe tbody tr th:only-of-type {\n",
       "        vertical-align: middle;\n",
       "    }\n",
       "\n",
       "    .dataframe tbody tr th {\n",
       "        vertical-align: top;\n",
       "    }\n",
       "\n",
       "    .dataframe thead th {\n",
       "        text-align: right;\n",
       "    }\n",
       "</style>\n",
       "<table border=\"1\" class=\"dataframe\">\n",
       "  <thead>\n",
       "    <tr style=\"text-align: right;\">\n",
       "      <th></th>\n",
       "      <th>count</th>\n",
       "      <th>mean</th>\n",
       "      <th>std</th>\n",
       "      <th>min</th>\n",
       "      <th>1%</th>\n",
       "      <th>25%</th>\n",
       "      <th>50%</th>\n",
       "      <th>75%</th>\n",
       "      <th>99%</th>\n",
       "      <th>max</th>\n",
       "    </tr>\n",
       "  </thead>\n",
       "  <tbody>\n",
       "    <tr>\n",
       "      <th>price</th>\n",
       "      <td>115983.0</td>\n",
       "      <td>60675.723899</td>\n",
       "      <td>1.146592e+07</td>\n",
       "      <td>0.0</td>\n",
       "      <td>0.0</td>\n",
       "      <td>5736.0</td>\n",
       "      <td>10995.0</td>\n",
       "      <td>22900.0</td>\n",
       "      <td>55000.00</td>\n",
       "      <td>3.736929e+09</td>\n",
       "    </tr>\n",
       "    <tr>\n",
       "      <th>year</th>\n",
       "      <td>115983.0</td>\n",
       "      <td>2009.556952</td>\n",
       "      <td>9.596126e+00</td>\n",
       "      <td>1900.0</td>\n",
       "      <td>1967.0</td>\n",
       "      <td>2006.0</td>\n",
       "      <td>2012.0</td>\n",
       "      <td>2015.0</td>\n",
       "      <td>2020.00</td>\n",
       "      <td>2.022000e+03</td>\n",
       "    </tr>\n",
       "    <tr>\n",
       "      <th>odometer</th>\n",
       "      <td>115983.0</td>\n",
       "      <td>111928.133804</td>\n",
       "      <td>2.198430e+05</td>\n",
       "      <td>0.0</td>\n",
       "      <td>200.0</td>\n",
       "      <td>55630.0</td>\n",
       "      <td>102725.0</td>\n",
       "      <td>147654.0</td>\n",
       "      <td>283058.32</td>\n",
       "      <td>1.000000e+07</td>\n",
       "    </tr>\n",
       "  </tbody>\n",
       "</table>\n",
       "</div>"
      ],
      "text/plain": [
       "             count           mean           std     min      1%      25%  \\\n",
       "price     115983.0   60675.723899  1.146592e+07     0.0     0.0   5736.0   \n",
       "year      115983.0    2009.556952  9.596126e+00  1900.0  1967.0   2006.0   \n",
       "odometer  115983.0  111928.133804  2.198430e+05     0.0   200.0  55630.0   \n",
       "\n",
       "               50%       75%        99%           max  \n",
       "price      10995.0   22900.0   55000.00  3.736929e+09  \n",
       "year        2012.0    2015.0    2020.00  2.022000e+03  \n",
       "odometer  102725.0  147654.0  283058.32  1.000000e+07  "
      ]
     },
     "execution_count": 13,
     "metadata": {},
     "output_type": "execute_result"
    }
   ],
   "source": [
    "percentiles = [0.01, 0.25, 0.5, 0.75, 0.99]\n",
    "Used_Cars.describe(percentiles).T"
   ]
  },
  {
   "cell_type": "code",
   "execution_count": 14,
   "id": "7b251c30",
   "metadata": {},
   "outputs": [
    {
     "data": {
      "text/html": [
       "<div>\n",
       "<style scoped>\n",
       "    .dataframe tbody tr th:only-of-type {\n",
       "        vertical-align: middle;\n",
       "    }\n",
       "\n",
       "    .dataframe tbody tr th {\n",
       "        vertical-align: top;\n",
       "    }\n",
       "\n",
       "    .dataframe thead th {\n",
       "        text-align: right;\n",
       "    }\n",
       "</style>\n",
       "<table border=\"1\" class=\"dataframe\">\n",
       "  <thead>\n",
       "    <tr style=\"text-align: right;\">\n",
       "      <th></th>\n",
       "      <th>count</th>\n",
       "      <th>unique</th>\n",
       "      <th>top</th>\n",
       "      <th>freq</th>\n",
       "    </tr>\n",
       "  </thead>\n",
       "  <tbody>\n",
       "    <tr>\n",
       "      <th>region</th>\n",
       "      <td>115983</td>\n",
       "      <td>403</td>\n",
       "      <td>vermont</td>\n",
       "      <td>1390</td>\n",
       "    </tr>\n",
       "    <tr>\n",
       "      <th>manufacturer</th>\n",
       "      <td>115983</td>\n",
       "      <td>41</td>\n",
       "      <td>ford</td>\n",
       "      <td>20740</td>\n",
       "    </tr>\n",
       "    <tr>\n",
       "      <th>model</th>\n",
       "      <td>115983</td>\n",
       "      <td>11529</td>\n",
       "      <td>f-150</td>\n",
       "      <td>1872</td>\n",
       "    </tr>\n",
       "    <tr>\n",
       "      <th>condition</th>\n",
       "      <td>115983</td>\n",
       "      <td>6</td>\n",
       "      <td>excellent</td>\n",
       "      <td>52252</td>\n",
       "    </tr>\n",
       "    <tr>\n",
       "      <th>cylinders</th>\n",
       "      <td>115983</td>\n",
       "      <td>8</td>\n",
       "      <td>6 cylinders</td>\n",
       "      <td>43100</td>\n",
       "    </tr>\n",
       "    <tr>\n",
       "      <th>fuel</th>\n",
       "      <td>115983</td>\n",
       "      <td>5</td>\n",
       "      <td>gas</td>\n",
       "      <td>106179</td>\n",
       "    </tr>\n",
       "    <tr>\n",
       "      <th>title_status</th>\n",
       "      <td>115983</td>\n",
       "      <td>6</td>\n",
       "      <td>clean</td>\n",
       "      <td>109887</td>\n",
       "    </tr>\n",
       "    <tr>\n",
       "      <th>transmission</th>\n",
       "      <td>115983</td>\n",
       "      <td>3</td>\n",
       "      <td>automatic</td>\n",
       "      <td>95507</td>\n",
       "    </tr>\n",
       "    <tr>\n",
       "      <th>drive</th>\n",
       "      <td>115983</td>\n",
       "      <td>3</td>\n",
       "      <td>4wd</td>\n",
       "      <td>49081</td>\n",
       "    </tr>\n",
       "    <tr>\n",
       "      <th>type</th>\n",
       "      <td>115983</td>\n",
       "      <td>13</td>\n",
       "      <td>sedan</td>\n",
       "      <td>30951</td>\n",
       "    </tr>\n",
       "    <tr>\n",
       "      <th>paint_color</th>\n",
       "      <td>115983</td>\n",
       "      <td>12</td>\n",
       "      <td>white</td>\n",
       "      <td>28061</td>\n",
       "    </tr>\n",
       "    <tr>\n",
       "      <th>posting_date</th>\n",
       "      <td>115983</td>\n",
       "      <td>110194</td>\n",
       "      <td>2021-04-23T22:13:05-0400</td>\n",
       "      <td>12</td>\n",
       "    </tr>\n",
       "  </tbody>\n",
       "</table>\n",
       "</div>"
      ],
      "text/plain": [
       "               count  unique                       top    freq\n",
       "region        115983     403                   vermont    1390\n",
       "manufacturer  115983      41                      ford   20740\n",
       "model         115983   11529                     f-150    1872\n",
       "condition     115983       6                 excellent   52252\n",
       "cylinders     115983       8               6 cylinders   43100\n",
       "fuel          115983       5                       gas  106179\n",
       "title_status  115983       6                     clean  109887\n",
       "transmission  115983       3                 automatic   95507\n",
       "drive         115983       3                       4wd   49081\n",
       "type          115983      13                     sedan   30951\n",
       "paint_color   115983      12                     white   28061\n",
       "posting_date  115983  110194  2021-04-23T22:13:05-0400      12"
      ]
     },
     "execution_count": 14,
     "metadata": {},
     "output_type": "execute_result"
    }
   ],
   "source": [
    "Used_Cars.describe(include = \"object\").T"
   ]
  },
  {
   "cell_type": "code",
   "execution_count": 15,
   "id": "e8839e12",
   "metadata": {
    "scrolled": true
   },
   "outputs": [],
   "source": [
    "manufacturer_values = Used_Cars['manufacturer'].value_counts()\n",
    "Used_Cars['manufacturer'] = Used_Cars['manufacturer'].apply(lambda x: x if str(x) in manufacturer_values[:20] else 'others')"
   ]
  },
  {
   "cell_type": "code",
   "execution_count": 16,
   "id": "505bdf27",
   "metadata": {},
   "outputs": [],
   "source": [
    "region_values = Used_Cars['region'].value_counts()\n",
    "Used_Cars['region'] = Used_Cars['region'].apply(lambda x: x if str(x) in region_values[:50] else 'others')"
   ]
  },
  {
   "cell_type": "code",
   "execution_count": 17,
   "id": "72cf2da6",
   "metadata": {},
   "outputs": [],
   "source": [
    "model_values = Used_Cars['model'].value_counts()\n",
    "Used_Cars['model'] = Used_Cars['model'].apply(lambda x: x if str(x) in model_values[:50] else 'others')"
   ]
  },
  {
   "cell_type": "code",
   "execution_count": 18,
   "id": "e4cf4d26",
   "metadata": {
    "scrolled": true
   },
   "outputs": [
    {
     "data": {
      "text/plain": [
       "<AxesSubplot:ylabel='price'>"
      ]
     },
     "execution_count": 18,
     "metadata": {},
     "output_type": "execute_result"
    },
    {
     "data": {
      "image/png": "[encoded data removed]",
      "text/plain": [
       "<Figure size 432x288 with 1 Axes>"
      ]
     },
     "metadata": {
      "needs_background": "light"
     },
     "output_type": "display_data"
    }
   ],
   "source": [
    "sns.boxplot(data=Used_Cars, y=\"price\")"
   ]
  },
  {
   "cell_type": "code",
   "execution_count": 19,
   "id": "350ad9a8",
   "metadata": {},
   "outputs": [
    {
     "data": {
      "text/plain": [
       "<AxesSubplot:ylabel='price'>"
      ]
     },
     "execution_count": 19,
     "metadata": {},
     "output_type": "execute_result"
    },
    {
     "data": {
      "image/png": "[encoded data removed]",
      "text/plain": [
       "<Figure size 432x288 with 1 Axes>"
      ]
     },
     "metadata": {
      "needs_background": "light"
     },
     "output_type": "display_data"
    }
   ],
   "source": [
    "Q1,Q3 = np.percentile(Used_Cars[\"price\"],[25,75])\n",
    "IQR = Q3-Q1\n",
    "UL = Q3+1.5*IQR\n",
    "LL = Q1-1.5*IQR\n",
    "#print(UL,LL)\n",
    "Used_Cars = Used_Cars.drop(Used_Cars[(Used_Cars.price<500) | (Used_Cars.price>UL)].index)\n",
    "sns.boxplot(data=Used_Cars, y=\"price\")"
   ]
  },
  {
   "cell_type": "code",
   "execution_count": 20,
   "id": "24abd559",
   "metadata": {},
   "outputs": [
    {
     "data": {
      "text/plain": [
       "<AxesSubplot:xlabel='price', ylabel='Count'>"
      ]
     },
     "execution_count": 20,
     "metadata": {},
     "output_type": "execute_result"
    },
    {
     "data": {
      "image/png": "[encoded data removed]",
      "text/plain": [
       "<Figure size 432x288 with 1 Axes>"
      ]
     },
     "metadata": {
      "needs_background": "light"
     },
     "output_type": "display_data"
    }
   ],
   "source": [
    "sns.histplot(data = Used_Cars, x = 'price')"
   ]
  },
  {
   "cell_type": "code",
   "execution_count": 21,
   "id": "c1ccd689",
   "metadata": {
    "scrolled": true
   },
   "outputs": [
    {
     "data": {
      "text/plain": [
       "<AxesSubplot:ylabel='odometer'>"
      ]
     },
     "execution_count": 21,
     "metadata": {},
     "output_type": "execute_result"
    },
    {
     "data": {
      "image/png": "[encoded data removed]",
      "text/plain": [
       "<Figure size 432x288 with 1 Axes>"
      ]
     },
     "metadata": {
      "needs_background": "light"
     },
     "output_type": "display_data"
    }
   ],
   "source": [
    "scaler = MinMaxScaler()\n",
    "Used_Cars[['odometer']] = scaler.fit_transform(Used_Cars[['odometer']])\n",
    "sns.boxplot(data=Used_Cars, y=\"odometer\")"
   ]
  },
  {
   "cell_type": "code",
   "execution_count": 22,
   "id": "9a4e5e42",
   "metadata": {},
   "outputs": [
    {
     "data": {
      "text/plain": [
       "<AxesSubplot:ylabel='odometer'>"
      ]
     },
     "execution_count": 22,
     "metadata": {},
     "output_type": "execute_result"
    },
    {
     "data": {
      "image/png": "[encoded data removed]",
      "text/plain": [
       "<Figure size 432x288 with 1 Axes>"
      ]
     },
     "metadata": {
      "needs_background": "light"
     },
     "output_type": "display_data"
    }
   ],
   "source": [
    "Q1,Q3 = np.percentile(Used_Cars[\"odometer\"],[25,75])\n",
    "IQR = Q3-Q1\n",
    "UL = Q3+1.5*IQR\n",
    "LL = Q1-1.5*IQR\n",
    "#print(UL,LL)\n",
    "Used_Cars = Used_Cars.drop(Used_Cars[(Used_Cars.odometer<0) | (Used_Cars.odometer>UL)].index)\n",
    "sns.boxplot(data=Used_Cars, y=\"odometer\")"
   ]
  },
  {
   "cell_type": "code",
   "execution_count": 23,
   "id": "6345e6aa",
   "metadata": {
    "scrolled": true
   },
   "outputs": [
    {
     "data": {
      "text/plain": [
       "<AxesSubplot:xlabel='odometer', ylabel='Count'>"
      ]
     },
     "execution_count": 23,
     "metadata": {},
     "output_type": "execute_result"
    },
    {
     "data": {
      "image/png": "[encoded data removed]",
      "text/plain": [
       "<Figure size 432x288 with 1 Axes>"
      ]
     },
     "metadata": {
      "needs_background": "light"
     },
     "output_type": "display_data"
    }
   ],
   "source": [
    "sns.histplot(data = Used_Cars, x = 'odometer')"
   ]
  },
  {
   "cell_type": "code",
   "execution_count": 24,
   "id": "c1c727ee",
   "metadata": {},
   "outputs": [
    {
     "name": "stdout",
     "output_type": "stream",
     "text": [
      "             price      year  odometer\n",
      "price     1.000000  0.369841 -0.593774\n",
      "year      0.369841  1.000000 -0.256805\n",
      "odometer -0.593774 -0.256805  1.000000\n"
     ]
    },
    {
     "data": {
      "text/plain": [
       "<AxesSubplot:>"
      ]
     },
     "execution_count": 24,
     "metadata": {},
     "output_type": "execute_result"
    },
    {
     "data": {
      "image/png": "[encoded data removed]",
      "text/plain": [
       "<Figure size 432x288 with 2 Axes>"
      ]
     },
     "metadata": {
      "needs_background": "light"
     },
     "output_type": "display_data"
    }
   ],
   "source": [
    "print(Used_Cars.corr())\n",
    "sns.heatmap(Used_Cars.corr())"
   ]
  },
  {
   "cell_type": "code",
   "execution_count": 25,
   "id": "8609ae3f",
   "metadata": {},
   "outputs": [
    {
     "data": {
      "text/html": [
       "<div>\n",
       "<style scoped>\n",
       "    .dataframe tbody tr th:only-of-type {\n",
       "        vertical-align: middle;\n",
       "    }\n",
       "\n",
       "    .dataframe tbody tr th {\n",
       "        vertical-align: top;\n",
       "    }\n",
       "\n",
       "    .dataframe thead th {\n",
       "        text-align: right;\n",
       "    }\n",
       "</style>\n",
       "<table border=\"1\" class=\"dataframe\">\n",
       "  <thead>\n",
       "    <tr style=\"text-align: right;\">\n",
       "      <th></th>\n",
       "      <th>region</th>\n",
       "      <th>price</th>\n",
       "      <th>year</th>\n",
       "      <th>manufacturer</th>\n",
       "      <th>model</th>\n",
       "      <th>condition</th>\n",
       "      <th>cylinders</th>\n",
       "      <th>fuel</th>\n",
       "      <th>odometer</th>\n",
       "      <th>title_status</th>\n",
       "      <th>transmission</th>\n",
       "      <th>drive</th>\n",
       "      <th>type</th>\n",
       "      <th>paint_color</th>\n",
       "      <th>posting_date</th>\n",
       "    </tr>\n",
       "  </thead>\n",
       "  <tbody>\n",
       "    <tr>\n",
       "      <th>31</th>\n",
       "      <td>others</td>\n",
       "      <td>15000</td>\n",
       "      <td>2013.0</td>\n",
       "      <td>ford</td>\n",
       "      <td>others</td>\n",
       "      <td>excellent</td>\n",
       "      <td>6 cylinders</td>\n",
       "      <td>gas</td>\n",
       "      <td>0.01280</td>\n",
       "      <td>clean</td>\n",
       "      <td>automatic</td>\n",
       "      <td>rwd</td>\n",
       "      <td>truck</td>\n",
       "      <td>black</td>\n",
       "      <td>2021-05-03T14:02:03-0500</td>\n",
       "    </tr>\n",
       "    <tr>\n",
       "      <th>32</th>\n",
       "      <td>others</td>\n",
       "      <td>27990</td>\n",
       "      <td>2012.0</td>\n",
       "      <td>gmc</td>\n",
       "      <td>others</td>\n",
       "      <td>good</td>\n",
       "      <td>8 cylinders</td>\n",
       "      <td>gas</td>\n",
       "      <td>0.00687</td>\n",
       "      <td>clean</td>\n",
       "      <td>other</td>\n",
       "      <td>4wd</td>\n",
       "      <td>pickup</td>\n",
       "      <td>black</td>\n",
       "      <td>2021-05-03T13:41:25-0500</td>\n",
       "    </tr>\n",
       "    <tr>\n",
       "      <th>33</th>\n",
       "      <td>others</td>\n",
       "      <td>34590</td>\n",
       "      <td>2016.0</td>\n",
       "      <td>chevrolet</td>\n",
       "      <td>others</td>\n",
       "      <td>good</td>\n",
       "      <td>6 cylinders</td>\n",
       "      <td>gas</td>\n",
       "      <td>0.00295</td>\n",
       "      <td>clean</td>\n",
       "      <td>other</td>\n",
       "      <td>4wd</td>\n",
       "      <td>pickup</td>\n",
       "      <td>silver</td>\n",
       "      <td>2021-05-03T12:41:33-0500</td>\n",
       "    </tr>\n",
       "    <tr>\n",
       "      <th>34</th>\n",
       "      <td>others</td>\n",
       "      <td>35000</td>\n",
       "      <td>2019.0</td>\n",
       "      <td>toyota</td>\n",
       "      <td>tacoma</td>\n",
       "      <td>excellent</td>\n",
       "      <td>6 cylinders</td>\n",
       "      <td>gas</td>\n",
       "      <td>0.00430</td>\n",
       "      <td>clean</td>\n",
       "      <td>automatic</td>\n",
       "      <td>4wd</td>\n",
       "      <td>truck</td>\n",
       "      <td>grey</td>\n",
       "      <td>2021-05-03T12:12:59-0500</td>\n",
       "    </tr>\n",
       "    <tr>\n",
       "      <th>35</th>\n",
       "      <td>others</td>\n",
       "      <td>29990</td>\n",
       "      <td>2016.0</td>\n",
       "      <td>chevrolet</td>\n",
       "      <td>others</td>\n",
       "      <td>good</td>\n",
       "      <td>6 cylinders</td>\n",
       "      <td>gas</td>\n",
       "      <td>0.00173</td>\n",
       "      <td>clean</td>\n",
       "      <td>other</td>\n",
       "      <td>4wd</td>\n",
       "      <td>pickup</td>\n",
       "      <td>red</td>\n",
       "      <td>2021-05-03T11:31:14-0500</td>\n",
       "    </tr>\n",
       "  </tbody>\n",
       "</table>\n",
       "</div>"
      ],
      "text/plain": [
       "    region  price    year manufacturer   model  condition    cylinders fuel  \\\n",
       "31  others  15000  2013.0         ford  others  excellent  6 cylinders  gas   \n",
       "32  others  27990  2012.0          gmc  others       good  8 cylinders  gas   \n",
       "33  others  34590  2016.0    chevrolet  others       good  6 cylinders  gas   \n",
       "34  others  35000  2019.0       toyota  tacoma  excellent  6 cylinders  gas   \n",
       "35  others  29990  2016.0    chevrolet  others       good  6 cylinders  gas   \n",
       "\n",
       "    odometer title_status transmission drive    type paint_color  \\\n",
       "31   0.01280        clean    automatic   rwd   truck       black   \n",
       "32   0.00687        clean        other   4wd  pickup       black   \n",
       "33   0.00295        clean        other   4wd  pickup      silver   \n",
       "34   0.00430        clean    automatic   4wd   truck        grey   \n",
       "35   0.00173        clean        other   4wd  pickup         red   \n",
       "\n",
       "                posting_date  \n",
       "31  2021-05-03T14:02:03-0500  \n",
       "32  2021-05-03T13:41:25-0500  \n",
       "33  2021-05-03T12:41:33-0500  \n",
       "34  2021-05-03T12:12:59-0500  \n",
       "35  2021-05-03T11:31:14-0500  "
      ]
     },
     "execution_count": 25,
     "metadata": {},
     "output_type": "execute_result"
    }
   ],
   "source": [
    "Used_Cars.head()"
   ]
  },
  {
   "cell_type": "code",
   "execution_count": 26,
   "id": "e52a1667",
   "metadata": {
    "scrolled": true
   },
   "outputs": [],
   "source": [
    "Used_Cars[['posting_date','posting_time']] = (Used_Cars['posting_date'].str.split(\"T\", expand=True))"
   ]
  },
  {
   "cell_type": "code",
   "execution_count": 27,
   "id": "c2b65c67",
   "metadata": {
    "scrolled": false
   },
   "outputs": [],
   "source": [
    "Used_Cars['posting_date'] = pd.to_datetime(Used_Cars['posting_date'], format=\"%Y/%m/%d\")\n",
    "#Used_Cars['posting_date']=Used_Cars['posting_date'].map(dt.datetime.toordinal)\n",
    "Used_Cars['car_age'] = Used_Cars['posting_date'].dt.year - Used_Cars['year']\n",
    "scaler = MinMaxScaler()\n",
    "Used_Cars[['car_age']] = scaler.fit_transform(Used_Cars[['car_age']])\n",
    "Used_Cars[['year']] = scaler.fit_transform(Used_Cars[['year']])\n",
    "Used_Cars[['year']] = Used_Cars[['year']].astype(int)"
   ]
  },
  {
   "cell_type": "code",
   "execution_count": 28,
   "id": "f6716a39",
   "metadata": {},
   "outputs": [
    {
     "data": {
      "image/png": "[encoded data removed]",
      "text/plain": [
       "<Figure size 864x648 with 1 Axes>"
      ]
     },
     "metadata": {
      "needs_background": "light"
     },
     "output_type": "display_data"
    }
   ],
   "source": [
    "plt.rcParams[\"figure.autolayout\"] = True\n",
    "sns.set_palette('summer_r')\n",
    "plt.figure(figsize =(12,9))\n",
    "sns.barplot(y=Used_Cars['price'],x=Used_Cars['year'])\n",
    "plt.title(\"Price VS Year\",fontsize=20,fontweight ='bold')\n",
    "plt.xlabel('year',fontsize = 20)\n",
    "plt.xticks(rotation=60)\n",
    "plt.ylabel('price ',fontsize = 20)\n",
    "plt.tight_layout()\n",
    "plt.show()"
   ]
  },
  {
   "cell_type": "code",
   "execution_count": 29,
   "id": "cd45c82d",
   "metadata": {},
   "outputs": [
    {
     "data": {
      "image/png": "[encoded data removed]",
      "text/plain": [
       "<Figure size 720x720 with 20 Axes>"
      ]
     },
     "metadata": {
      "needs_background": "light"
     },
     "output_type": "display_data"
    }
   ],
   "source": [
    "sns.pairplot(Used_Cars.sample(100))\n",
    "plt.title('Figure 1: Pair Plot')\n",
    "plt.tight_layout()\n",
    "plt.savefig('Insight-Pair-Plot',dpi=None)\n",
    "plt.show()"
   ]
  },
  {
   "cell_type": "code",
   "execution_count": 30,
   "id": "f11f2076",
   "metadata": {},
   "outputs": [
    {
     "data": {
      "text/html": [
       "<div>\n",
       "<style scoped>\n",
       "    .dataframe tbody tr th:only-of-type {\n",
       "        vertical-align: middle;\n",
       "    }\n",
       "\n",
       "    .dataframe tbody tr th {\n",
       "        vertical-align: top;\n",
       "    }\n",
       "\n",
       "    .dataframe thead th {\n",
       "        text-align: right;\n",
       "    }\n",
       "</style>\n",
       "<table border=\"1\" class=\"dataframe\">\n",
       "  <thead>\n",
       "    <tr style=\"text-align: right;\">\n",
       "      <th></th>\n",
       "      <th>region</th>\n",
       "      <th>price</th>\n",
       "      <th>year</th>\n",
       "      <th>manufacturer</th>\n",
       "      <th>model</th>\n",
       "      <th>condition</th>\n",
       "      <th>cylinders</th>\n",
       "      <th>fuel</th>\n",
       "      <th>odometer</th>\n",
       "      <th>title_status</th>\n",
       "      <th>transmission</th>\n",
       "      <th>drive</th>\n",
       "      <th>type</th>\n",
       "      <th>paint_color</th>\n",
       "      <th>posting_date</th>\n",
       "      <th>posting_time</th>\n",
       "      <th>car_age</th>\n",
       "    </tr>\n",
       "  </thead>\n",
       "  <tbody>\n",
       "    <tr>\n",
       "      <th>31</th>\n",
       "      <td>others</td>\n",
       "      <td>15000</td>\n",
       "      <td>0</td>\n",
       "      <td>ford</td>\n",
       "      <td>others</td>\n",
       "      <td>excellent</td>\n",
       "      <td>6 cylinders</td>\n",
       "      <td>gas</td>\n",
       "      <td>0.01280</td>\n",
       "      <td>clean</td>\n",
       "      <td>automatic</td>\n",
       "      <td>rwd</td>\n",
       "      <td>truck</td>\n",
       "      <td>black</td>\n",
       "      <td>2021-05-03</td>\n",
       "      <td>14:02:03-0500</td>\n",
       "      <td>0.073770</td>\n",
       "    </tr>\n",
       "    <tr>\n",
       "      <th>32</th>\n",
       "      <td>others</td>\n",
       "      <td>27990</td>\n",
       "      <td>0</td>\n",
       "      <td>gmc</td>\n",
       "      <td>others</td>\n",
       "      <td>good</td>\n",
       "      <td>8 cylinders</td>\n",
       "      <td>gas</td>\n",
       "      <td>0.00687</td>\n",
       "      <td>clean</td>\n",
       "      <td>other</td>\n",
       "      <td>4wd</td>\n",
       "      <td>pickup</td>\n",
       "      <td>black</td>\n",
       "      <td>2021-05-03</td>\n",
       "      <td>13:41:25-0500</td>\n",
       "      <td>0.081967</td>\n",
       "    </tr>\n",
       "    <tr>\n",
       "      <th>33</th>\n",
       "      <td>others</td>\n",
       "      <td>34590</td>\n",
       "      <td>0</td>\n",
       "      <td>chevrolet</td>\n",
       "      <td>others</td>\n",
       "      <td>good</td>\n",
       "      <td>6 cylinders</td>\n",
       "      <td>gas</td>\n",
       "      <td>0.00295</td>\n",
       "      <td>clean</td>\n",
       "      <td>other</td>\n",
       "      <td>4wd</td>\n",
       "      <td>pickup</td>\n",
       "      <td>silver</td>\n",
       "      <td>2021-05-03</td>\n",
       "      <td>12:41:33-0500</td>\n",
       "      <td>0.049180</td>\n",
       "    </tr>\n",
       "    <tr>\n",
       "      <th>34</th>\n",
       "      <td>others</td>\n",
       "      <td>35000</td>\n",
       "      <td>0</td>\n",
       "      <td>toyota</td>\n",
       "      <td>tacoma</td>\n",
       "      <td>excellent</td>\n",
       "      <td>6 cylinders</td>\n",
       "      <td>gas</td>\n",
       "      <td>0.00430</td>\n",
       "      <td>clean</td>\n",
       "      <td>automatic</td>\n",
       "      <td>4wd</td>\n",
       "      <td>truck</td>\n",
       "      <td>grey</td>\n",
       "      <td>2021-05-03</td>\n",
       "      <td>12:12:59-0500</td>\n",
       "      <td>0.024590</td>\n",
       "    </tr>\n",
       "    <tr>\n",
       "      <th>35</th>\n",
       "      <td>others</td>\n",
       "      <td>29990</td>\n",
       "      <td>0</td>\n",
       "      <td>chevrolet</td>\n",
       "      <td>others</td>\n",
       "      <td>good</td>\n",
       "      <td>6 cylinders</td>\n",
       "      <td>gas</td>\n",
       "      <td>0.00173</td>\n",
       "      <td>clean</td>\n",
       "      <td>other</td>\n",
       "      <td>4wd</td>\n",
       "      <td>pickup</td>\n",
       "      <td>red</td>\n",
       "      <td>2021-05-03</td>\n",
       "      <td>11:31:14-0500</td>\n",
       "      <td>0.049180</td>\n",
       "    </tr>\n",
       "  </tbody>\n",
       "</table>\n",
       "</div>"
      ],
      "text/plain": [
       "    region  price  year manufacturer   model  condition    cylinders fuel  \\\n",
       "31  others  15000     0         ford  others  excellent  6 cylinders  gas   \n",
       "32  others  27990     0          gmc  others       good  8 cylinders  gas   \n",
       "33  others  34590     0    chevrolet  others       good  6 cylinders  gas   \n",
       "34  others  35000     0       toyota  tacoma  excellent  6 cylinders  gas   \n",
       "35  others  29990     0    chevrolet  others       good  6 cylinders  gas   \n",
       "\n",
       "    odometer title_status transmission drive    type paint_color posting_date  \\\n",
       "31   0.01280        clean    automatic   rwd   truck       black   2021-05-03   \n",
       "32   0.00687        clean        other   4wd  pickup       black   2021-05-03   \n",
       "33   0.00295        clean        other   4wd  pickup      silver   2021-05-03   \n",
       "34   0.00430        clean    automatic   4wd   truck        grey   2021-05-03   \n",
       "35   0.00173        clean        other   4wd  pickup         red   2021-05-03   \n",
       "\n",
       "     posting_time   car_age  \n",
       "31  14:02:03-0500  0.073770  \n",
       "32  13:41:25-0500  0.081967  \n",
       "33  12:41:33-0500  0.049180  \n",
       "34  12:12:59-0500  0.024590  \n",
       "35  11:31:14-0500  0.049180  "
      ]
     },
     "execution_count": 30,
     "metadata": {},
     "output_type": "execute_result"
    }
   ],
   "source": [
    "Used_Cars.head()"
   ]
  },
  {
   "cell_type": "code",
   "execution_count": 31,
   "id": "51f01f39",
   "metadata": {
    "scrolled": false
   },
   "outputs": [
    {
     "name": "stderr",
     "output_type": "stream",
     "text": [
      "C:\\Users\\gauta\\anaconda3\\lib\\site-packages\\seaborn\\distributions.py:2619: FutureWarning: `distplot` is a deprecated function and will be removed in a future version. Please adapt your code to use either `displot` (a figure-level function with similar flexibility) or `histplot` (an axes-level function for histograms).\n",
      "  warnings.warn(msg, FutureWarning)\n"
     ]
    },
    {
     "data": {
      "image/png": "[encoded data removed]",
      "text/plain": [
       "<Figure size 432x288 with 1 Axes>"
      ]
     },
     "metadata": {
      "needs_background": "light"
     },
     "output_type": "display_data"
    }
   ],
   "source": [
    "sns.distplot(Used_Cars.price)\n",
    "plt.tight_layout()\n",
    "plt.title(\"Distribution of price\")\n",
    "plt.savefig('Insight-Dist-Plot',dpi=None)\n",
    "plt.show()"
   ]
  },
  {
   "cell_type": "code",
   "execution_count": 32,
   "id": "b5f616a3",
   "metadata": {},
   "outputs": [
    {
     "data": {
      "image/png": "[encoded data removed]",
      "text/plain": [
       "<Figure size 360x360 with 1 Axes>"
      ]
     },
     "metadata": {
      "needs_background": "light"
     },
     "output_type": "display_data"
    }
   ],
   "source": [
    "fig,axs=plt.subplots()\n",
    "fig.set_size_inches(5,5)\n",
    "\n",
    "p1=sns.barplot(x='fuel',y='price',data=Used_Cars,ax=axs)\n",
    "axs.set_title('Fuel vs Price')\n",
    "\n",
    "plt.savefig('Insight-Figure-1',dpi=None)\n",
    "plt.show()"
   ]
  },
  {
   "cell_type": "code",
   "execution_count": 33,
   "id": "c06c46c4",
   "metadata": {},
   "outputs": [
    {
     "data": {
      "image/png": "[encoded data removed]",
      "text/plain": [
       "<Figure size 720x360 with 1 Axes>"
      ]
     },
     "metadata": {
      "needs_background": "light"
     },
     "output_type": "display_data"
    }
   ],
   "source": [
    "plt.figure(figsize=(10,5))\n",
    "sns.barplot(x='fuel',y='price',hue='condition',data=Used_Cars)\n",
    "plt.title('Fuel + Condition vs Price')\n",
    "plt.savefig('Insight-Figure-2',dpi=None)\n",
    "plt.show()"
   ]
  },
  {
   "cell_type": "code",
   "execution_count": 34,
   "id": "6c3e41c6",
   "metadata": {},
   "outputs": [],
   "source": [
    "enc = OrdinalEncoder(categories = [[ 'salvage', 'fair', 'unknown', 'good', 'excellent', 'like new', 'new']])\n",
    "Used_Cars[['condition']]=enc.fit_transform(Used_Cars[['condition']])"
   ]
  },
  {
   "cell_type": "code",
   "execution_count": 35,
   "id": "029329c2",
   "metadata": {
    "scrolled": true
   },
   "outputs": [
    {
     "name": "stdout",
     "output_type": "stream",
     "text": [
      "<class 'pandas.core.frame.DataFrame'>\n",
      "Int64Index: 106694 entries, 31 to 426878\n",
      "Data columns (total 17 columns):\n",
      " #   Column        Non-Null Count   Dtype         \n",
      "---  ------        --------------   -----         \n",
      " 0   region        106694 non-null  object        \n",
      " 1   price         106694 non-null  int64         \n",
      " 2   year          106694 non-null  int32         \n",
      " 3   manufacturer  106694 non-null  object        \n",
      " 4   model         106694 non-null  object        \n",
      " 5   condition     106694 non-null  float64       \n",
      " 6   cylinders     106694 non-null  object        \n",
      " 7   fuel          106694 non-null  object        \n",
      " 8   odometer      106694 non-null  float64       \n",
      " 9   title_status  106694 non-null  object        \n",
      " 10  transmission  106694 non-null  object        \n",
      " 11  drive         106694 non-null  object        \n",
      " 12  type          106694 non-null  object        \n",
      " 13  paint_color   106694 non-null  object        \n",
      " 14  posting_date  106694 non-null  datetime64[ns]\n",
      " 15  posting_time  106694 non-null  object        \n",
      " 16  car_age       106694 non-null  float64       \n",
      "dtypes: datetime64[ns](1), float64(3), int32(1), int64(1), object(11)\n",
      "memory usage: 14.2+ MB\n"
     ]
    }
   ],
   "source": [
    "Used_Cars.info()\n",
    "cols = ['region', 'manufacturer', 'model',\n",
    "       'cylinders', 'fuel', 'title_status', 'transmission',\n",
    "       'drive', 'type', 'paint_color']"
   ]
  },
  {
   "cell_type": "code",
   "execution_count": 36,
   "id": "14fe1aeb",
   "metadata": {},
   "outputs": [
    {
     "data": {
      "text/plain": [
       "Index(['price', 'year', 'condition', 'odometer', 'posting_date',\n",
       "       'posting_time', 'car_age', 'region_albany', 'region_albuquerque',\n",
       "       'region_anchorage / mat-su',\n",
       "       ...\n",
       "       'paint_color_brown', 'paint_color_custom', 'paint_color_green',\n",
       "       'paint_color_grey', 'paint_color_orange', 'paint_color_purple',\n",
       "       'paint_color_red', 'paint_color_silver', 'paint_color_white',\n",
       "       'paint_color_yellow'],\n",
       "      dtype='object', length=170)"
      ]
     },
     "execution_count": 36,
     "metadata": {},
     "output_type": "execute_result"
    }
   ],
   "source": [
    "df_encoded = pd.get_dummies(Used_Cars, columns=cols, drop_first=True)\n",
    "Used_Cars=df_encoded\n",
    "Used_Cars.columns"
   ]
  },
  {
   "cell_type": "code",
   "execution_count": 37,
   "id": "506ac835",
   "metadata": {},
   "outputs": [],
   "source": [
    "Used_Cars_Price = Used_Cars['price']\n",
    "Used_Cars_features = Used_Cars.drop(columns=['price','posting_time','posting_date'], axis=1)\n",
    "from sklearn.model_selection import train_test_split\n",
    "\n",
    "X_train, X_test, y_train, y_test = train_test_split(Used_Cars_features, Used_Cars_Price, test_size = 0.3, \n",
    "                                                    random_state = 42)\n",
    "Score_Data = {}"
   ]
  },
  {
   "cell_type": "code",
   "execution_count": 38,
   "id": "b6f52cd0",
   "metadata": {},
   "outputs": [
    {
     "name": "stdout",
     "output_type": "stream",
     "text": [
      "Coefficients =  {'year': 6639.180673058936, 'condition': 1029.335081572111, 'odometer': -850549.2623164215, 'car_age': -37725.86084707193, 'region_albany': -1004.2415971493265, 'region_albuquerque': -847.3170250408123, 'region_anchorage / mat-su': 2182.7290987281312, 'region_atlanta': -330.2103383430331, 'region_boise': 20.252702513173062, 'region_boston': -2801.637280858209, 'region_central NJ': -2076.1756613519283, 'region_charlotte': -513.8300960809484, 'region_cincinnati': -992.6907769225695, 'region_cleveland': -2335.613557064794, 'region_columbus': -3027.356794541931, 'region_dallas / fort worth': -732.3965526653956, 'region_des moines': -642.9700057304394, 'region_detroit metro': -2093.035580780861, 'region_ft myers / SW florida': -710.9108395193198, 'region_grand rapids': 552.994590039958, 'region_greenville / upstate': 66.74660287519964, 'region_indianapolis': -949.7332687363623, 'region_jacksonville': 125.00855707631126, 'region_kansas city, MO': -763.5271398620098, 'region_long island': -2563.571469105421, 'region_los angeles': -1517.5381301467623, 'region_louisville': -768.5292466036008, 'region_madison': -127.08426521837418, 'region_maine': -1372.1192099865266, 'region_milwaukee': -1857.9149849687483, 'region_minneapolis / st paul': -1094.8778569092356, 'region_nashville': 1207.359480510053, 'region_new hampshire': -2147.2152904143186, 'region_new york city': -3523.4977163566164, 'region_oklahoma city': -1940.0936903558768, 'region_omaha / council bluffs': -1152.6745947479467, 'region_orange county': -88.63749429523159, 'region_others': -910.1797830224677, 'region_philadelphia': -2927.278423525865, 'region_phoenix': -599.442798242897, 'region_pittsburgh': -1832.0334919777697, 'region_raleigh / durham / CH': -1230.5061457668562, 'region_reno / tahoe': -217.44805021412958, 'region_rhode island': -2580.917083216709, 'region_rochester': -2062.9196729809964, 'region_sacramento': -876.7941440435516, 'region_san diego': -1745.9359499473194, 'region_south jersey': -2467.0796227083174, 'region_stockton': 1112.298985320178, 'region_tampa bay area': -1507.2190668716412, 'region_tulsa': -156.55777508650408, 'region_ventura county': -1644.7621185320795, 'region_vermont': -1229.9542737777665, 'region_washington, DC': -2641.718521589927, 'manufacturer_buick': 274.55839144934, 'manufacturer_cadillac': 26.918929926211604, 'manufacturer_chevrolet': 401.2788336384283, 'manufacturer_chrysler': -2216.4290596820247, 'manufacturer_dodge': -1035.272559505126, 'manufacturer_ford': 344.83010400948115, 'manufacturer_gmc': 990.1730697013568, 'manufacturer_honda': 1418.1349112086464, 'manufacturer_hyundai': -1522.4450401600006, 'manufacturer_infiniti': 851.6760497543655, 'manufacturer_jeep': 1130.705393615759, 'manufacturer_kia': -1164.4131063362329, 'manufacturer_lexus': 3251.437199449744, 'manufacturer_mercedes-benz': 1725.2688815776055, 'manufacturer_nissan': -1346.2364986893735, 'manufacturer_others': 472.33625627908623, 'manufacturer_ram': 2244.3072314968176, 'manufacturer_subaru': -330.16850964912373, 'manufacturer_toyota': 2886.1882281223297, 'manufacturer_volkswagen': -10.129559448807413, 'model_1500 crew cab big horn': 4492.116781197304, 'model_2500': 4730.87571952916, 'model_3500': 5712.84737963655, 'model_4runner': 8031.720296271253, 'model_accord': 5152.478834064794, 'model_altima': 5898.623799430786, 'model_camaro ss coupe 2d': 4707.831467269289, 'model_camry': 4104.451461863406, 'model_charger': 3837.782511553298, 'model_civic': 3425.593771125028, 'model_corolla': 1824.5204343840733, 'model_corvette': 4753.984166168453, 'model_corvette grand sport': 11529.950819447957, 'model_cr-v': 3426.855775769226, 'model_cruze': 2660.178739925126, 'model_elantra': 4836.68750741214, 'model_equinox': 3157.1224410953027, 'model_escape': 1702.7512709738348, 'model_explorer': 3845.268423982574, 'model_f-150': 2873.203045065684, 'model_f150': 2539.7819513589707, 'model_focus': 2325.0293657788034, 'model_forester': 2843.0319872068662, 'model_fusion': 2969.1533396353593, 'model_grand caravan': 3559.502789748867, 'model_grand cherokee': 2204.346393935686, 'model_impala': 2517.0343534271665, 'model_jetta': 2680.676881641603, 'model_malibu': 3987.106910548398, 'model_mustang': 1951.301047172734, 'model_mustang gt coupe 2d': 4714.84373544968, 'model_odyssey': 3010.166915558383, 'model_others': 3784.154024921845, 'model_outback': 4454.655009635752, 'model_prius': 3490.013118834705, 'model_rav4': 1883.7590597412154, 'model_rogue': 3397.944324742917, 'model_sentra': 3947.587275628634, 'model_sierra': 2507.175575715113, 'model_sierra 1500': 3703.3376132397552, 'model_sierra 2500hd': 8539.33564414413, 'model_silverado': 2075.0300954938275, 'model_silverado 1500': 4078.2472033706076, 'model_silverado 2500hd': 6526.678699320893, 'model_sonata': 5793.698366224372, 'model_suburban': 5007.955038904167, 'model_tacoma': 4753.662502791127, 'model_tahoe': 5973.450516182346, 'model_tundra': 2722.174313650092, 'model_wrangler': 6386.078560350384, 'cylinders_12 cylinders': -887.8748543662969, 'cylinders_3 cylinders': -9372.327417888138, 'cylinders_4 cylinders': -5835.0004857887525, 'cylinders_5 cylinders': -5488.533272491418, 'cylinders_6 cylinders': -3433.085708593011, 'cylinders_8 cylinders': -561.9903368673404, 'cylinders_other': -6141.505646280976, 'fuel_electric': -5278.940970168336, 'fuel_gas': -8126.1344780855015, 'fuel_hybrid': -7612.966091009719, 'fuel_other': -5931.605236155567, 'title_status_lien': 1348.2835821608624, 'title_status_missing': -1058.4219033582908, 'title_status_parts only': -3930.844600212508, 'title_status_rebuilt': -2723.6944158838596, 'title_status_salvage': -3289.165752398184, 'transmission_manual': 1354.0042199091986, 'transmission_other': 7213.645894130052, 'drive_fwd': -3667.931989861565, 'drive_rwd': -1404.260918498694, 'type_bus': 1876.162125847501, 'type_convertible': 1581.6545093143795, 'type_coupe': 2432.8302145118673, 'type_hatchback': -1601.8864503335353, 'type_mini-van': 585.4533461090614, 'type_offroad': 1835.6186028838144, 'type_other': 2541.429438436815, 'type_pickup': 2522.8449729282365, 'type_sedan': -1268.917163601087, 'type_truck': 4153.694661346515, 'type_van': 1801.715697029476, 'type_wagon': -297.77525255842556, 'paint_color_blue': -688.562386673817, 'paint_color_brown': -1391.4111453354362, 'paint_color_custom': -435.67396177520004, 'paint_color_green': -610.2891100696279, 'paint_color_grey': -715.7091491371102, 'paint_color_orange': 591.5020357481176, 'paint_color_purple': 55.167783269953475, 'paint_color_red': -654.7267925808119, 'paint_color_silver': -1154.214701444289, 'paint_color_white': 169.63541784615518, 'paint_color_yellow': -433.5673226080545}\n",
      "Intercept: 32860.325585841885\n"
     ]
    }
   ],
   "source": [
    "model = LinearRegression()\n",
    "model.fit(X_train, y_train)\n",
    "Coefficients = {}\n",
    "for i in range(len(Used_Cars_features.columns)):\n",
    "    Coefficients[Used_Cars_features.columns[i]]=model.coef_[i]\n",
    "print(\"Coefficients = \",Coefficients)\n",
    "print(\"Intercept:\",model.intercept_)"
   ]
  },
  {
   "cell_type": "code",
   "execution_count": 39,
   "id": "254a10c0",
   "metadata": {
    "scrolled": true
   },
   "outputs": [
    {
     "name": "stdout",
     "output_type": "stream",
     "text": [
      "Training R-Score for Linear Regression = 0.7218734278159047\n",
      "Test R-Score for Linear Regression = 0.7156934521122715\n"
     ]
    }
   ],
   "source": [
    "print(\"Training R-Score for Linear Regression =\", model.score(X_train, y_train))\n",
    "print(\"Test R-Score for Linear Regression =\", model.score(X_test, y_test))\n",
    "Score_Data[\"Linear Regression\"]=model.score(X_test, y_test)*100"
   ]
  },
  {
   "cell_type": "code",
   "execution_count": 40,
   "id": "b93b1fac",
   "metadata": {},
   "outputs": [],
   "source": [
    "cnt_pred_train = model.predict(X_train)\n",
    "cnt_pred_test = model.predict(X_test)"
   ]
  },
  {
   "cell_type": "code",
   "execution_count": 41,
   "id": "8b853468",
   "metadata": {},
   "outputs": [
    {
     "name": "stdout",
     "output_type": "stream",
     "text": [
      "Linear Regression MAE_train = 4377.681452202071\n",
      "Linear Regression MAE_test = 4403.960968698165\n"
     ]
    }
   ],
   "source": [
    "e_train = y_train - cnt_pred_train\n",
    "e_perc_train = (y_train - cnt_pred_train)/y_train\n",
    "MAE_train = np.mean(np.abs(e_train))\n",
    "MAPE_train = np.mean(np.abs(e_perc_train))\n",
    "e_test = y_test - cnt_pred_test \n",
    "e_perc_test = (y_test - cnt_pred_test)/y_test\n",
    "MAE_test = np.mean(np.abs(e_test))\n",
    "MAPE_test = np.mean(np.abs(e_perc_test))\n",
    "print(\"Linear Regression MAE_train =\",MAE_train)\n",
    "print(\"Linear Regression MAE_test =\",MAE_test)"
   ]
  },
  {
   "cell_type": "code",
   "execution_count": 42,
   "id": "4d78e0ad",
   "metadata": {},
   "outputs": [
    {
     "data": {
      "text/plain": [
       "GridSearchCV(cv=5,\n",
       "             estimator=Pipeline(steps=[('polynomialfeatures',\n",
       "                                        PolynomialFeatures()),\n",
       "                                       ('linearregression',\n",
       "                                        LinearRegression())]),\n",
       "             param_grid={'polynomialfeatures__degree': [1]})"
      ]
     },
     "execution_count": 42,
     "metadata": {},
     "output_type": "execute_result"
    }
   ],
   "source": [
    "param_poly = {  'polynomialfeatures__degree'  : [1,2,3]  }\n",
    "pipe_poly = PolynomialFeatures()\n",
    "pipe_lr = LinearRegression()\n",
    "pipe_poly_reg = make_pipeline(pipe_poly , pipe_lr)\n",
    "grid_poly = GridSearchCV(pipe_poly_reg , param_poly, cv = 5)\n",
    "grid_poly"
   ]
  },
  {
   "cell_type": "code",
   "execution_count": 43,
   "id": "6f1e053b",
   "metadata": {},
   "outputs": [
    {
     "name": "stdout",
     "output_type": "stream",
     "text": [
      "0.178639554977417  minutes\n"
     ]
    }
   ],
   "source": [
    "start_time = time.time()\n",
    "grid_poly.fit(X_train, y_train)\n",
    "print((time.time()-start_time)/60, \" minutes\")"
   ]
  },
  {
   "cell_type": "code",
   "execution_count": 44,
   "id": "ea327428",
   "metadata": {
    "scrolled": true
   },
   "outputs": [
    {
     "name": "stdout",
     "output_type": "stream",
     "text": [
      "Training R-Score for Polynomial Regression = 0.7218734278159047\n",
      "Test R-Score for Polynomial Regression = 0.7156934521122719\n"
     ]
    }
   ],
   "source": [
    "print(\"Training R-Score for Polynomial Regression =\", grid_poly.best_estimator_.score(X_train, y_train))\n",
    "print(\"Test R-Score for Polynomial Regression =\", grid_poly.best_estimator_.score(X_test, y_test))\n",
    "Score_Data[\"Polynomial Regression\"]=grid_poly.best_estimator_.score(X_test, y_test)*100"
   ]
  },
  {
   "cell_type": "code",
   "execution_count": 45,
   "id": "a0ec4d38",
   "metadata": {
    "scrolled": true
   },
   "outputs": [
    {
     "name": "stdout",
     "output_type": "stream",
     "text": [
      "Poly Regression MAE_train = 4377.68145220199\n",
      "Poly Regression MAE_test = 4403.960968698044\n"
     ]
    }
   ],
   "source": [
    "cnt_Poly_pred_train = grid_poly.predict(X_train)\n",
    "cnt_Poly_pred_test = grid_poly.predict(X_test)\n",
    "e_Poly_train = y_train - cnt_Poly_pred_train\n",
    "e_Poly_perc_train = (y_train - cnt_Poly_pred_train)/y_train\n",
    "MAE_Poly_train = np.mean(np.abs(e_Poly_train))\n",
    "MAPE_Poly_train = np.mean(np.abs(e_Poly_perc_train))\n",
    "e_Poly_test = y_test - cnt_Poly_pred_test \n",
    "e_Poly_perc_test = (y_test - cnt_Poly_pred_test)/y_test\n",
    "MAE_Poly_test = np.mean(np.abs(e_Poly_test))\n",
    "MAPE_Poly_test = np.mean(np.abs(e_Poly_perc_test))\n",
    "print(\"Poly Regression MAE_train =\",MAE_Poly_train)\n",
    "print(\"Poly Regression MAE_test =\",MAE_Poly_test)"
   ]
  },
  {
   "cell_type": "code",
   "execution_count": 46,
   "id": "ae2410fa",
   "metadata": {},
   "outputs": [],
   "source": [
    "# 1. Define a list of parameters (key is 'alpha')\n",
    "lasso_params = {  'alpha' :  [0.001, 0.01, 0.1, 1, 10] }\n",
    "# 2. Define function and fit the data\n",
    "lasso = Lasso(max_iter=10000)\n",
    "grid_lasso = GridSearchCV(lasso, lasso_params, cv = 5)"
   ]
  },
  {
   "cell_type": "code",
   "execution_count": 47,
   "id": "b86323ff",
   "metadata": {
    "scrolled": true
   },
   "outputs": [
    {
     "name": "stdout",
     "output_type": "stream",
     "text": [
      "13.482408281167348  minutes\n",
      "0.7204532149827911\n",
      "{'alpha': 0.01}\n"
     ]
    },
    {
     "data": {
      "text/plain": [
       "(array([ 5.89257095e+03,  1.03010709e+03, -8.50166197e+05, -3.77277586e+04,\n",
       "        -9.48690159e+02, -7.92484573e+02,  2.23716312e+03, -2.74805255e+02,\n",
       "         7.20949157e+01, -2.74645761e+03, -2.02053132e+03, -4.58700309e+02,\n",
       "        -9.37270007e+02, -2.28064296e+03, -2.97320424e+03, -6.77612923e+02,\n",
       "        -5.88055692e+02, -2.03801059e+03, -6.55829805e+02,  6.05223482e+02,\n",
       "         1.19073311e+02, -8.94860371e+02,  1.77593069e+02, -7.07745615e+02,\n",
       "        -2.50834793e+03, -1.46238843e+03, -7.13088321e+02, -7.26325133e+01,\n",
       "        -1.31708777e+03, -1.80242205e+03, -1.04043053e+03,  1.25961517e+03,\n",
       "        -2.09213828e+03, -3.46889788e+03, -1.88474577e+03, -1.09763008e+03,\n",
       "        -3.32394006e+01, -8.56367386e+02, -2.87214198e+03, -5.44238087e+02,\n",
       "        -1.77692005e+03, -1.17566684e+03, -1.64091196e+02, -2.52593435e+03,\n",
       "        -2.00796574e+03, -8.22103787e+02, -1.69108097e+03, -2.41180641e+03,\n",
       "         1.16478238e+03, -1.45150947e+03, -1.01596209e+02, -1.59028441e+03,\n",
       "        -1.17440666e+03, -2.58659082e+03,  2.71146706e+02,  2.42534308e+01,\n",
       "         3.99941660e+02, -2.21857678e+03, -1.03654009e+03,  3.43289240e+02,\n",
       "         9.88190570e+02,  1.41536717e+03, -1.52349167e+03,  8.48216992e+02,\n",
       "         1.12804115e+03, -1.16663433e+03,  3.24803684e+03,  1.72261241e+03,\n",
       "        -1.34809595e+03,  4.69582911e+02,  2.21453483e+03, -3.31782589e+02,\n",
       "         2.88429667e+03, -1.12922745e+01,  4.43104238e+03,  4.66846072e+03,\n",
       "         5.64327275e+03,  7.94154323e+03,  5.06491775e+03,  5.81045879e+03,\n",
       "         4.61858781e+03,  4.01603757e+03,  3.74875525e+03,  3.33801283e+03,\n",
       "         1.73615964e+03,  4.66776290e+03,  1.14404494e+04,  3.33814082e+03,\n",
       "         2.57040829e+03,  4.74645110e+03,  3.06751496e+03,  1.61450735e+03,\n",
       "         3.75661950e+03,  2.78742984e+03,  2.45075749e+03,  2.23574259e+03,\n",
       "         2.75246628e+03,  2.87964999e+03,  3.47112116e+03,  2.11670404e+03,\n",
       "         2.42852404e+03,  2.59050399e+03,  3.89747309e+03,  1.86360472e+03,\n",
       "         4.62657876e+03,  2.92202217e+03,  3.69892812e+03,  4.36458451e+03,\n",
       "         3.39922562e+03,  1.79405541e+03,  3.30763807e+03,  3.85822884e+03,\n",
       "         2.41806043e+03,  3.61642517e+03,  8.44859314e+03,  1.98743234e+03,\n",
       "         3.99229176e+03,  6.43823666e+03,  5.70346562e+03,  4.91811764e+03,\n",
       "         4.66545615e+03,  5.88452659e+03,  2.63337788e+03,  6.29979608e+03,\n",
       "        -8.50903726e+02, -9.35188848e+03, -5.82176101e+03, -5.47589435e+03,\n",
       "        -3.42048683e+03, -5.50538822e+02, -6.12525709e+03, -5.27438951e+03,\n",
       "        -8.12714458e+03, -7.61210091e+03, -5.93010679e+03,  1.34744035e+03,\n",
       "        -1.05065396e+03, -3.90539780e+03, -2.72299463e+03, -3.28693680e+03,\n",
       "         1.35430010e+03,  7.21835810e+03, -3.66794666e+03, -1.40397973e+03,\n",
       "         1.86976065e+03,  1.58198073e+03,  2.43330969e+03, -1.60206137e+03,\n",
       "         5.84326178e+02,  1.83372946e+03,  2.54106183e+03,  2.52215157e+03,\n",
       "        -1.26881291e+03,  4.15300315e+03,  1.80203691e+03, -2.97437820e+02,\n",
       "        -6.88449289e+02, -1.39114259e+03, -4.34797682e+02, -6.10090250e+02,\n",
       "        -7.15347689e+02,  5.89852739e+02,  5.20351432e+01, -6.54477642e+02,\n",
       "        -1.15412492e+03,  1.70345406e+02, -4.31729996e+02]),\n",
       " 32875.3227755492)"
      ]
     },
     "execution_count": 47,
     "metadata": {},
     "output_type": "execute_result"
    }
   ],
   "source": [
    "start_time = time.time()\n",
    "grid_lasso.fit(X_train, y_train)\n",
    "print((time.time()-start_time)/60, \" minutes\")\n",
    "## 3.1b performance based on which optimal hyperparameter is chosen:\n",
    "print(grid_lasso.best_score_)\n",
    "# 3.2 find best hyperparameters\n",
    "print(grid_lasso.best_params_)\n",
    "# 3.3 find best parameter estimates: coef and intercept of chosen model\n",
    "grid_lasso.best_estimator_.coef_, grid_lasso.best_estimator_.intercept_"
   ]
  },
  {
   "cell_type": "code",
   "execution_count": 48,
   "id": "b8458a1e",
   "metadata": {},
   "outputs": [
    {
     "name": "stdout",
     "output_type": "stream",
     "text": [
      "Training R-Score for Lasso Regression = 0.7218728406324012\n",
      "Test R-Score for Lasso Regression = 0.7156994741095725\n"
     ]
    }
   ],
   "source": [
    "# 3.1 Present performance measure\n",
    "## 3.1a unbiased performance in R2\n",
    "print(\"Training R-Score for Lasso Regression =\", grid_lasso.best_estimator_.score(X_train, y_train))\n",
    "print(\"Test R-Score for Lasso Regression =\", grid_lasso.best_estimator_.score(X_test, y_test))\n",
    "Score_Data[\"Lasso Regression\"]=grid_lasso.best_estimator_.score(X_test, y_test)*100"
   ]
  },
  {
   "cell_type": "code",
   "execution_count": 49,
   "id": "1f4b4ce7",
   "metadata": {},
   "outputs": [
    {
     "name": "stdout",
     "output_type": "stream",
     "text": [
      "Lasso Regression MAE_train = 4377.540831959163\n",
      "Lasso Regression MAE_test = 4403.841178862306\n"
     ]
    }
   ],
   "source": [
    "cnt_pred_lasso_train = grid_lasso.predict(X_train)\n",
    "cnt_pred_lasso_test = grid_lasso.predict(X_test)\n",
    "e_lasso_train = y_train - cnt_pred_lasso_train\n",
    "e_lasso_perc_train = (y_train - cnt_pred_lasso_train)/y_train\n",
    "MAE_lasso_train = np.mean(np.abs(e_lasso_train))\n",
    "MAPE_lasso_train = np.mean(np.abs(e_lasso_perc_train))\n",
    "e_lasso_test = y_test - cnt_pred_lasso_test \n",
    "e_lasso_perc_test = (y_test - cnt_pred_lasso_test)/y_test\n",
    "MAE_lasso_test = np.mean(np.abs(e_lasso_test))\n",
    "MAPE_lasso_test = np.mean(np.abs(e_lasso_perc_test))\n",
    "print(\"Lasso Regression MAE_train =\",MAE_lasso_train)\n",
    "print(\"Lasso Regression MAE_test =\",MAE_lasso_test)"
   ]
  },
  {
   "cell_type": "code",
   "execution_count": 50,
   "id": "4652c1b1",
   "metadata": {},
   "outputs": [
    {
     "name": "stdout",
     "output_type": "stream",
     "text": [
      "0.715692249133786\n",
      "0.7204526583964954\n",
      "{'alpha': 0.001}\n"
     ]
    },
    {
     "data": {
      "text/plain": [
       "(array([ 6.63637504e+03,  1.03008786e+03, -8.50086458e+05, -3.77312415e+04,\n",
       "        -1.00382755e+03, -8.47201304e+02,  2.18426902e+03, -3.30952988e+02,\n",
       "         2.01944765e+01, -2.80176650e+03, -2.07611732e+03, -5.14129467e+02,\n",
       "        -9.93132496e+02, -2.33569622e+03, -3.02775109e+03, -7.32958891e+02,\n",
       "        -6.42938541e+02, -2.09338243e+03, -7.10608548e+02,  5.52922073e+02,\n",
       "         6.64455012e+01, -9.50117103e+02,  1.24604913e+02, -7.64250481e+02,\n",
       "        -2.56334849e+03, -1.51749379e+03, -7.68821696e+02, -1.26783066e+02,\n",
       "        -1.37223671e+03, -1.85791366e+03, -1.09539060e+03,  1.20684700e+03,\n",
       "        -2.14735412e+03, -3.52343175e+03, -1.94032082e+03, -1.15236411e+03,\n",
       "        -8.85984933e+01, -9.10294297e+02, -2.92721424e+03, -5.99421331e+02,\n",
       "        -1.83159814e+03, -1.23040427e+03, -2.17958141e+02, -2.58110293e+03,\n",
       "        -2.06290438e+03, -8.77012915e+02, -1.74584550e+03, -2.46743452e+03,\n",
       "         1.11204795e+03, -1.50755711e+03, -1.57189647e+02, -1.64531613e+03,\n",
       "        -1.22910212e+03, -2.64181530e+03,  2.75241469e+02,  2.74701374e+01,\n",
       "         4.01698154e+02, -2.21627531e+03, -1.03487234e+03,  3.44958760e+02,\n",
       "         9.90308821e+02,  1.41745826e+03, -1.52207459e+03,  8.52077279e+02,\n",
       "         1.13124728e+03, -1.16409385e+03,  3.25131508e+03,  1.72568709e+03,\n",
       "        -1.34600066e+03,  4.72535216e+02,  2.24442227e+03, -3.30546058e+02,\n",
       "         2.88557936e+03, -9.52550739e+00,  4.49293337e+03,  4.72994713e+03,\n",
       "         5.71218834e+03,  8.03135028e+03,  5.15208323e+03,  5.89809214e+03,\n",
       "         4.70783927e+03,  4.10412846e+03,  3.83751602e+03,  3.42544478e+03,\n",
       "         1.82476660e+03,  4.75550391e+03,  1.15295129e+04,  3.42728049e+03,\n",
       "         2.65993517e+03,  4.83644033e+03,  3.15733561e+03,  1.70296466e+03,\n",
       "         3.84505069e+03,  2.87277228e+03,  2.53860496e+03,  2.32491210e+03,\n",
       "         2.84321728e+03,  2.96920095e+03,  3.55948407e+03,  2.20377554e+03,\n",
       "         2.51666427e+03,  2.68029844e+03,  3.98702577e+03,  1.95137139e+03,\n",
       "         4.71570915e+03,  3.01011189e+03,  3.78417775e+03,  4.45386399e+03,\n",
       "         3.48924714e+03,  1.88422041e+03,  3.39861398e+03,  3.94784125e+03,\n",
       "         2.50624123e+03,  3.70279734e+03,  8.53840352e+03,  2.07374959e+03,\n",
       "         4.07751184e+03,  6.52617058e+03,  5.79317559e+03,  5.00683406e+03,\n",
       "         4.75307793e+03,  5.97242629e+03,  2.72168150e+03,  6.38626697e+03,\n",
       "        -8.86557714e+02, -9.37025633e+03, -5.83430370e+03, -5.48911440e+03,\n",
       "        -3.43283256e+03, -5.61946021e+02, -6.14106160e+03, -5.27638712e+03,\n",
       "        -8.12493700e+03, -7.61177395e+03, -5.92964422e+03,  1.34912531e+03,\n",
       "        -1.05694838e+03, -3.93001315e+03, -2.72245468e+03, -3.28843719e+03,\n",
       "         1.35419540e+03,  7.21711345e+03, -3.66806211e+03, -1.40376982e+03,\n",
       "         1.87597831e+03,  1.58329182e+03,  2.43416927e+03, -1.60126678e+03,\n",
       "         5.85514149e+02,  1.83626447e+03,  2.54241919e+03,  2.52351723e+03,\n",
       "        -1.26836109e+03,  4.15432298e+03,  1.80224437e+03, -2.97359052e+02,\n",
       "        -6.88676777e+02, -1.39161097e+03, -4.35533655e+02, -6.10704597e+02,\n",
       "        -7.15770619e+02,  5.91974774e+02,  5.50997437e+01, -6.54728653e+02,\n",
       "        -1.15450112e+03,  1.69579355e+02, -4.33313141e+02]),\n",
       " 32850.828588733595)"
      ]
     },
     "execution_count": 50,
     "metadata": {},
     "output_type": "execute_result"
    }
   ],
   "source": [
    "ridge_params = {  'alpha' :  [0.001, 0.01, 0.1, 1, 10,100]  }\n",
    "# 2. Define function and fit the data\n",
    "ridge = Ridge(max)\n",
    "grid_ridge = GridSearchCV(ridge, ridge_params, cv = 5)\n",
    "grid_ridge.fit(X_train, y_train)\n",
    "# 3.1 Present performance measure\n",
    "## 3.1a unbiased performance in R2\n",
    "print(grid_ridge.score(X_test, y_test))\n",
    "## 3.1b performance based on which optimal hyperparameter is chosen:\n",
    "print(grid_ridge.best_score_)\n",
    "# 3.2 find best hyperparameters\n",
    "print(grid_ridge.best_params_)\n",
    "# 3.3 find best parameter estimates: coef and intercept of chosen model\n",
    "grid_ridge.best_estimator_.coef_, grid_ridge.best_estimator_.intercept_"
   ]
  },
  {
   "cell_type": "code",
   "execution_count": 51,
   "id": "74fbf13c",
   "metadata": {},
   "outputs": [
    {
     "name": "stdout",
     "output_type": "stream",
     "text": [
      "Training R-Score for Ridge Regression = 0.7218733877360695\n",
      "Test R-Score for Ridge Regression = 0.715692249133786\n"
     ]
    }
   ],
   "source": [
    "print(\"Training R-Score for Ridge Regression =\", grid_ridge.best_estimator_.score(X_train, y_train))\n",
    "print(\"Test R-Score for Ridge Regression =\", grid_ridge.best_estimator_.score(X_test, y_test))\n",
    "Score_Data[\"Ridge Regression\"]=grid_ridge.best_estimator_.score(X_test, y_test)*100"
   ]
  },
  {
   "cell_type": "code",
   "execution_count": 52,
   "id": "3f316a36",
   "metadata": {},
   "outputs": [
    {
     "name": "stdout",
     "output_type": "stream",
     "text": [
      "Ridge Regression MAE_train = 4377.569690521768\n",
      "Ridge Regression MAE_test = 4403.873427902204\n"
     ]
    }
   ],
   "source": [
    "cnt_ridge_pred_train = grid_ridge.predict(X_train)\n",
    "cnt_ridge_pred_test = grid_ridge.predict(X_test)\n",
    "e_ridge_train = y_train - cnt_ridge_pred_train\n",
    "e_ridge_perc_train = (y_train - cnt_ridge_pred_train)/y_train\n",
    "MAE_ridge_train = np.mean(np.abs(e_ridge_train))\n",
    "MAPE_ridge_train = np.mean(np.abs(e_ridge_perc_train))\n",
    "e_ridge_test = y_test - cnt_ridge_pred_test \n",
    "e_ridge_perc_test = (y_test - cnt_ridge_pred_test)/y_test\n",
    "MAE_ridge_test = np.mean(np.abs(e_ridge_test))\n",
    "MAPE_ridge_test = np.mean(np.abs(e_ridge_perc_test))\n",
    "print(\"Ridge Regression MAE_train =\",MAE_ridge_train)\n",
    "print(\"Ridge Regression MAE_test =\",MAE_ridge_test)"
   ]
  },
  {
   "cell_type": "code",
   "execution_count": 74,
   "id": "5ed00ef3",
   "metadata": {},
   "outputs": [
    {
     "name": "stdout",
     "output_type": "stream",
     "text": [
      "{'n_neighbors': 5}\n",
      "0.770117921079984\n",
      "0.7756202188097463\n"
     ]
    }
   ],
   "source": [
    "knn = KNeighborsRegressor()\n",
    "\n",
    "# define a list of parameters\n",
    "param_knn = {'n_neighbors': range(3, 10, 1)}  \n",
    "\n",
    "#apply grid search\n",
    "grid_knn = GridSearchCV(knn, param_knn, cv = 5)\n",
    "grid_knn.fit(X_train, y_train)\n",
    "\n",
    "# the best hyperparameter chosen:\n",
    "print(grid_knn.best_params_)\n",
    "\n",
    "# When k=25 (best case), the validation score of through CV is:\n",
    "print(grid_knn.best_score_)\n",
    "\n",
    "print(grid_knn.score(X_test, y_test))"
   ]
  },
  {
   "cell_type": "code",
   "execution_count": 54,
   "id": "b73d533b",
   "metadata": {},
   "outputs": [
    {
     "name": "stdout",
     "output_type": "stream",
     "text": [
      "Training R-Score for KNN Regression = 0.8581859323600671\n",
      "Test R-Score for KNN Regression = 0.7756202188097463\n"
     ]
    }
   ],
   "source": [
    "print(\"Training R-Score for KNN Regression =\", grid_knn.score(X_train, y_train))\n",
    "print(\"Test R-Score for KNN Regression =\", grid_knn.score(X_test, y_test))\n",
    "Score_Data[\"KNN Regression\"]=grid_knn.score(X_test, y_test)*100"
   ]
  },
  {
   "cell_type": "code",
   "execution_count": 55,
   "id": "d14ac22d",
   "metadata": {},
   "outputs": [
    {
     "name": "stdout",
     "output_type": "stream",
     "text": [
      "KNN Regression MAE_train = 2683.882086094946\n",
      "KNN Regression MAE_test = 3400.458289855926\n"
     ]
    }
   ],
   "source": [
    "cnt_KNN_pred_train = grid_knn.predict(X_train)\n",
    "cnt_KNN_pred_test = grid_knn.predict(X_test)\n",
    "e_KNN_train = y_train - cnt_KNN_pred_train\n",
    "e_KNN_perc_train = (y_train - cnt_KNN_pred_train)/y_train\n",
    "MAE_KNN_train = np.mean(np.abs(e_KNN_train))\n",
    "MAPE_KNN_train = np.mean(np.abs(e_KNN_perc_train))\n",
    "e_KNN_test = y_test - cnt_KNN_pred_test \n",
    "e_KNN_perc_test = (y_test - cnt_KNN_pred_test)/y_test\n",
    "MAE_KNN_test = np.mean(np.abs(e_KNN_test))\n",
    "MAPE_KNN_test = np.mean(np.abs(e_KNN_perc_test))\n",
    "print(\"KNN Regression MAE_train =\",MAE_KNN_train)\n",
    "print(\"KNN Regression MAE_test =\",MAE_KNN_test)"
   ]
  },
  {
   "cell_type": "code",
   "execution_count": 78,
   "id": "797f6653",
   "metadata": {},
   "outputs": [
    {
     "data": {
      "text/plain": [
       "0.9181890278934215"
      ]
     },
     "execution_count": 78,
     "metadata": {},
     "output_type": "execute_result"
    }
   ],
   "source": [
    "rf = RandomForestRegressor(n_estimators = 100, random_state = 42, max_features=0.33)\n",
    "\n",
    "rf.fit(X_train, y_train)\n",
    "rf.score(X_test, y_test)"
   ]
  },
  {
   "cell_type": "code",
   "execution_count": 79,
   "id": "e682a68a",
   "metadata": {},
   "outputs": [
    {
     "name": "stdout",
     "output_type": "stream",
     "text": [
      "Training R-Score for Random Forest Regression = 0.988442317080318\n",
      "Test R-Score for Random Forest Regression = 0.9181890278934215\n"
     ]
    }
   ],
   "source": [
    "print(\"Training R-Score for Random Forest Regression =\", rf.score(X_train, y_train))\n",
    "print(\"Test R-Score for Random Forest Regression =\", rf.score(X_test, y_test))\n",
    "Score_Data[\"Random Forest Regression\"]=rf.score(X_test, y_test)*100"
   ]
  },
  {
   "cell_type": "code",
   "execution_count": 80,
   "id": "18c7c64c",
   "metadata": {},
   "outputs": [
    {
     "name": "stdout",
     "output_type": "stream",
     "text": [
      "Random Forest Regression MAE_train = 690.7311142830532\n",
      "Random Forest Regression MAE_test = 1829.567450856381\n"
     ]
    }
   ],
   "source": [
    "cnt_rf_pred_train = rf.predict(X_train)\n",
    "cnt_rf_pred_test = rf.predict(X_test)\n",
    "e_rf_train = y_train - cnt_rf_pred_train\n",
    "e_rf_perc_train = (y_train - cnt_rf_pred_train)/y_train\n",
    "MAE_rf_train = np.mean(np.abs(e_rf_train))\n",
    "MAPE_rf_train = np.mean(np.abs(e_rf_perc_train))\n",
    "e_rf_test = y_test - cnt_rf_pred_test \n",
    "e_rf_perc_test = (y_test - cnt_rf_pred_test)/y_test\n",
    "MAE_rf_test = np.mean(np.abs(e_rf_test))\n",
    "MAPE_rf_test = np.mean(np.abs(e_rf_perc_test))\n",
    "print(\"Random Forest Regression MAE_train =\",MAE_rf_train)\n",
    "print(\"Random Forest Regression MAE_test =\",MAE_rf_test)"
   ]
  },
  {
   "cell_type": "code",
   "execution_count": 59,
   "id": "21792cff",
   "metadata": {},
   "outputs": [
    {
     "data": {
      "text/plain": [
       "GridSearchCV(estimator=DecisionTreeRegressor(random_state=0),\n",
       "             param_grid={'max_depth': range(1, 8),\n",
       "                         'min_samples_split': range(20, 300, 20)})"
      ]
     },
     "execution_count": 59,
     "metadata": {},
     "output_type": "execute_result"
    }
   ],
   "source": [
    "from sklearn.model_selection import GridSearchCV\n",
    "\n",
    "opt_tree = DecisionTreeRegressor(random_state = 0)\n",
    "\n",
    "dt_params = {'max_depth':  range(1,8) ,        \n",
    "             'min_samples_split':   range(20,300,20)}\n",
    "\n",
    "grid_tree = GridSearchCV(opt_tree, dt_params)\n",
    "grid_tree.fit(X_train, y_train)"
   ]
  },
  {
   "cell_type": "code",
   "execution_count": 60,
   "id": "8a4c4587",
   "metadata": {},
   "outputs": [
    {
     "name": "stdout",
     "output_type": "stream",
     "text": [
      "Training R-Score for Decision Tree Regression = 0.7874043353263163\n",
      "Test R-Score for Decision Tree Regression = 0.7811149207645692\n"
     ]
    }
   ],
   "source": [
    "print(\"Training R-Score for Decision Tree Regression =\", grid_tree.best_estimator_.score(X_train, y_train))\n",
    "print(\"Test R-Score for Decision Tree Regression =\", grid_tree.best_estimator_.score(X_test, y_test))\n",
    "Score_Data[\"Decision Tree Regression\"]=grid_tree.best_estimator_.score(X_test, y_test)*100"
   ]
  },
  {
   "cell_type": "code",
   "execution_count": 61,
   "id": "6afc66e5",
   "metadata": {},
   "outputs": [
    {
     "data": {
      "text/plain": [
       "{'max_depth': 7, 'min_samples_split': 40}"
      ]
     },
     "execution_count": 61,
     "metadata": {},
     "output_type": "execute_result"
    }
   ],
   "source": [
    "grid_tree.best_params_"
   ]
  },
  {
   "cell_type": "code",
   "execution_count": 62,
   "id": "634b8dae",
   "metadata": {},
   "outputs": [
    {
     "name": "stdout",
     "output_type": "stream",
     "text": [
      "DT Regression MAE_train = 3700.220379288685\n",
      "DT Regression MAE_test = 3718.8843157481742\n"
     ]
    }
   ],
   "source": [
    "cnt_DT_pred_train = grid_tree.predict(X_train)\n",
    "cnt_DT_pred_test = grid_tree.predict(X_test)\n",
    "e_DT_train = y_train - cnt_DT_pred_train\n",
    "e_DT_perc_train = (y_train - cnt_DT_pred_train)/y_train\n",
    "MAE_DT_train = np.mean(np.abs(e_DT_train))\n",
    "MAPE_DT_train = np.mean(np.abs(e_DT_perc_train))\n",
    "e_DT_test = y_test - cnt_DT_pred_test \n",
    "e_DT_perc_test = (y_test - cnt_DT_pred_test)/y_test\n",
    "MAE_DT_test = np.mean(np.abs(e_DT_test))\n",
    "MAPE_DT_test = np.mean(np.abs(e_DT_perc_test))\n",
    "print(\"DT Regression MAE_train =\",MAE_DT_train)\n",
    "print(\"DT Regression MAE_test =\",MAE_DT_test)"
   ]
  },
  {
   "cell_type": "code",
   "execution_count": 81,
   "id": "9248a530",
   "metadata": {},
   "outputs": [
    {
     "data": {
      "text/plain": [
       "AdaBoostRegressor(base_estimator=DecisionTreeRegressor(max_depth=10),\n",
       "                  n_estimators=100)"
      ]
     },
     "execution_count": 81,
     "metadata": {},
     "output_type": "execute_result"
    }
   ],
   "source": [
    "ABR = AdaBoostRegressor(DecisionTreeRegressor(max_depth=10),n_estimators=100)\n",
    "ABR.fit(X_train, y_train)"
   ]
  },
  {
   "cell_type": "code",
   "execution_count": 82,
   "id": "7df3987a",
   "metadata": {},
   "outputs": [
    {
     "name": "stdout",
     "output_type": "stream",
     "text": [
      "Training R-Score for AdaBoost Regression = 0.7634498838161421\n",
      "Test R-Score for AdaBoost Regression = 0.7392852235902363\n"
     ]
    }
   ],
   "source": [
    "print(\"Training R-Score for AdaBoost Regression =\", ABR.score(X_train, y_train))\n",
    "print(\"Test R-Score for AdaBoost Regression =\", ABR.score(X_test, y_test))\n",
    "Score_Data[\"AdaBoost Regression\"]=ABR.score(X_test, y_test)*100"
   ]
  },
  {
   "cell_type": "code",
   "execution_count": 65,
   "id": "c1c6a5af",
   "metadata": {},
   "outputs": [
    {
     "name": "stdout",
     "output_type": "stream",
     "text": [
      "AdaBoost Regression MAE_train = 2983.3161116976253\n",
      "AdaBoost Regression MAE_test = 3118.0778888719674\n"
     ]
    }
   ],
   "source": [
    "cnt_ABR_pred_train = ABR.predict(X_train)\n",
    "cnt_ABR_pred_test = ABR.predict(X_test)\n",
    "e_ABR_train = y_train - cnt_ABR_pred_train\n",
    "e_ABR_perc_train = (y_train - cnt_ABR_pred_train)/y_train\n",
    "MAE_ABR_train = np.mean(np.abs(e_ABR_train))\n",
    "MAPE_ABR_train = np.mean(np.abs(e_ABR_perc_train))\n",
    "e_ABR_test = y_test - cnt_ABR_pred_test \n",
    "e_ABR_perc_test = (y_test - cnt_ABR_pred_test)/y_test\n",
    "MAE_ABR_test = np.mean(np.abs(e_ABR_test))\n",
    "MAPE_ABR_test = np.mean(np.abs(e_ABR_perc_test))\n",
    "print(\"AdaBoost Regression MAE_train =\",MAE_ABR_train)\n",
    "print(\"AdaBoost Regression MAE_test =\",MAE_ABR_test)"
   ]
  },
  {
   "cell_type": "code",
   "execution_count": 66,
   "id": "d46827e0",
   "metadata": {
    "scrolled": true
   },
   "outputs": [
    {
     "data": {
      "image/png": "[encoded data removed]",
      "text/plain": [
       "<Figure size 1440x432 with 1 Axes>"
      ]
     },
     "metadata": {
      "needs_background": "light"
     },
     "output_type": "display_data"
    }
   ],
   "source": [
    "x=list(range(len(Score_Data)))\n",
    "y=list(range(0,101,10))\n",
    "props = dict(boxstyle='round', facecolor='white', alpha=0.8)\n",
    "plt.figure(figsize=(20,6))\n",
    "plt.plot(Score_Data.keys(),Score_Data.values())\n",
    "plt.yticks(y)\n",
    "plt.xticks(fontsize=20)\n",
    "plt.xticks(rotation = (10))\n",
    "plt.xlabel(\"Models\",fontsize=30)\n",
    "plt.ylabel(\"Score(R^2)(%)\",fontsize=30)\n",
    "plt.title(\"Performance of Models\")\n",
    "for k in Score_Data.keys():\n",
    "    b=Score_Data[k]\n",
    "    val=\"(\"+str(round(b,2))+\" %)\"\n",
    "    plt.text(k, b+4.5, val,horizontalalignment='center',verticalalignment='center',color='green',bbox=props)\n",
    "    plt.text(k, b+3.5, '.',horizontalalignment='center',verticalalignment='center',color='red',fontsize=50)\n",
    "plt.tight_layout()\n",
    "plt.savefig('Overall-Performance.jpg',dpi=600)\n",
    "plt.show()"
   ]
  }
 ],
 "metadata": {
  "kernelspec": {
   "display_name": "Python 3 (ipykernel)",
   "language": "python",
   "name": "python3"
  },
  "language_info": {
   "codemirror_mode": {
    "name": "ipython",
    "version": 3
   },
   "file_extension": ".py",
   "mimetype": "text/x-python",
   "name": "python",
   "nbconvert_exporter": "python",
   "pygments_lexer": "ipython3",
   "version": "3.9.12"
  }
 },
 "nbformat": 4,
 "nbformat_minor": 5
}
